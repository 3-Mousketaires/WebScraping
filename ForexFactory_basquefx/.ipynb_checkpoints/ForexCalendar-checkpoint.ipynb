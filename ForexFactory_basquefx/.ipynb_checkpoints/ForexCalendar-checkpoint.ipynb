{
 "cells": [
  {
   "cell_type": "code",
   "execution_count": 1,
   "metadata": {
    "collapsed": true
   },
   "outputs": [],
   "source": [
    "import requests\n",
    "from bs4 import BeautifulSoup\n",
    "\n",
    "page = requests.get(\"https://www.forexfactory.com/calendar.php?day=today\")\n",
    "content = page.content\n",
    "\n",
    "soup = BeautifulSoup(content,\"html.parser\")"
   ]
  },
  {
   "cell_type": "code",
   "execution_count": 74,
   "metadata": {},
   "outputs": [
    {
     "name": "stdout",
     "output_type": "stream",
     "text": [
      "EUR\n",
      "German Unemployment Change\n",
      "3:55am\n",
      "Medium Impact Expected\n",
      "-15K\n",
      "-10K\n",
      "-29K\n",
      "  \n",
      "GBP\n",
      "Construction PMI\n",
      "4:30am\n",
      "High Impact Expected\n",
      "53.1\n",
      "52.1\n",
      "52.2\n",
      "  \n",
      "EUR\n",
      "Prelim Flash GDP q/q\n",
      "5:00am\n",
      "Medium Impact Expected\n",
      "0.5%\n",
      "0.5%\n",
      "0.4%\n",
      "  \n",
      "EUR\n",
      "PPI m/m\n",
      "\n",
      "Low Impact Expected\n",
      "-0.3%\n",
      "0.1%\n",
      "0.0%\n",
      "  \n",
      "EUR\n",
      "German 10-y Bond Auction\n",
      "5:33am\n",
      "Low Impact Expected\n",
      "0.33|1.5\n",
      "\n",
      "0.21|1.4\n",
      "  \n",
      "USD\n",
      "ADP Non-Farm Employment Change\n",
      "8:15am\n",
      "High Impact Expected\n",
      "177K\n",
      "178K\n",
      "255K\n",
      "  \n",
      "USD\n",
      "Final Services PMI\n",
      "9:45am\n",
      "Low Impact Expected\n",
      "53.1\n",
      "52.5\n",
      "52.5\n",
      "  \n",
      "USD\n",
      "ISM Non-Manufacturing PMI\n",
      "10:00am\n",
      "High Impact Expected\n",
      "57.5\n",
      "56.1\n",
      "55.2\n",
      "  \n",
      "USD\n",
      "Crude Oil Inventories\n",
      "10:30am\n",
      "High Impact Expected\n",
      "-0.9M\n",
      "-3.3M\n",
      "-3.6M\n",
      "  \n",
      "USD\n",
      "FOMC Statement\n",
      " 2:00pm\n",
      "High Impact Expected\n",
      "\n",
      "\n",
      "\n",
      "  \n",
      "USD\n",
      "Federal Funds Rate\n",
      "\n",
      "High Impact Expected\n",
      "\n",
      "<1.00%\n",
      "<1.00%\n",
      "  \n",
      "JPY\n",
      "Bank Holiday\n",
      "All Day\n",
      "Non-Economic\n",
      "\n",
      "\n",
      "\n",
      "  \n",
      "AUD\n",
      "HIA New Home Sales m/m\n",
      "9:00pm\n",
      "Low Impact Expected\n",
      "\n",
      "\n",
      "0.2%\n",
      "  \n",
      "NZD\n",
      "ANZ Commodity Prices m/m\n",
      "\n",
      "Low Impact Expected\n",
      "\n",
      "\n",
      "0.4%\n",
      "  \n",
      "AUD\n",
      "Trade Balance\n",
      "9:30pm\n",
      "High Impact Expected\n",
      "\n",
      "3.33B\n",
      "3.57B\n",
      "  \n",
      "CNY\n",
      "Caixin Services PMI\n",
      "9:45pm\n",
      "Low Impact Expected\n",
      "\n",
      "52.6\n",
      "52.2\n",
      "  \n",
      "AUD\n",
      "RBA Gov Lowe Speaks\n",
      "11:10pm\n",
      "High Impact Expected\n",
      "\n",
      "\n",
      "\n",
      "  \n"
     ]
    }
   ],
   "source": [
    "table = soup.find_all(\"tr\",{\"class\":\"calendar_row\"})\n",
    "#print(table)\n",
    "for item in table:\n",
    "    print(item.find_all(\"td\", {\"class\":\"calendar__currency\"})[0].text) #Currency\n",
    "    print(item.find_all(\"td\",{\"class\":\"calendar__event\"})[0].text.strip()) #Event Name\n",
    "    print(item.find_all(\"td\", {\"class\":\"calendar__time\"})[0].text) #Time\n",
    "    impact = item.find_all(\"td\", {\"class\":\"impact\"})\n",
    "    for icon in range(0,len(impact)):\n",
    "        print(impact[icon].find_all(\"span\")[0]['title'])\n",
    "    print(item.find_all(\"td\", {\"class\":\"calendar__actual\"})[0].text) #Actual Value   \n",
    "    print(item.find_all(\"td\", {\"class\":\"calendar__forecast\"})[0].text) #forecasted Value\n",
    "    print(item.find_all(\"td\", {\"class\":\"calendar__previous\"})[0].text) # Previous\n",
    "    print(\"  \")"
   ]
  },
  {
   "cell_type": "code",
   "execution_count": 3,
   "metadata": {},
   "outputs": [
    {
     "name": "stdout",
     "output_type": "stream",
     "text": [
      "German Unemployment Change\n",
      "Construction PMI\n",
      "Prelim Flash GDP q/q\n",
      "PPI m/m\n",
      "German 10-y Bond Auction\n",
      "ADP Non-Farm Employment Change\n",
      "Final Services PMI\n",
      "ISM Non-Manufacturing PMI\n",
      "Crude Oil Inventories\n",
      "FOMC Statement\n",
      "Federal Funds Rate\n",
      "Bank Holiday\n",
      "HIA New Home Sales m/m\n",
      "ANZ Commodity Prices m/m\n",
      "Trade Balance\n",
      "Caixin Services PMI\n",
      "RBA Gov Lowe Speaks\n"
     ]
    }
   ],
   "source": [
    "title = soup.find_all(\"span\",{\"class\":\"calendar__event-title\"})\n",
    "for t in range(0, len(title)):\n",
    "    print(title[t].text)"
   ]
  },
  {
   "cell_type": "code",
   "execution_count": 5,
   "metadata": {},
   "outputs": [
    {
     "name": "stdout",
     "output_type": "stream",
     "text": [
      "3:55am\n",
      "4:30am\n",
      "5:00am\n",
      "\n",
      "5:33am\n",
      "8:15am\n",
      "9:45am\n",
      "10:00am\n",
      "10:30am\n",
      " 2:00pm\n",
      "\n",
      "All Day\n",
      "9:00pm\n",
      "\n",
      "9:30pm\n",
      "9:45pm\n",
      "11:10pm\n"
     ]
    }
   ],
   "source": [
    "time = soup.find_all(\"td\", {\"class\":\"calendar__time\"})\n",
    "for t in range(0, len(time)):\n",
    "    print(time[t].text)"
   ]
  },
  {
   "cell_type": "code",
   "execution_count": 6,
   "metadata": {},
   "outputs": [
    {
     "name": "stdout",
     "output_type": "stream",
     "text": [
      "EUR\n",
      "GBP\n",
      "EUR\n",
      "EUR\n",
      "EUR\n",
      "USD\n",
      "USD\n",
      "USD\n",
      "USD\n",
      "USD\n",
      "USD\n",
      "JPY\n",
      "AUD\n",
      "NZD\n",
      "AUD\n",
      "CNY\n",
      "AUD\n"
     ]
    }
   ],
   "source": [
    "currency = soup.find_all(\"td\", {\"class\":\"calendar__currency\"})\n",
    "for c in range(0, len(currency)):\n",
    "    print(currency[c].text)"
   ]
  },
  {
   "cell_type": "code",
   "execution_count": 56,
   "metadata": {},
   "outputs": [
    {
     "data": {
      "text/plain": [
       "[<td class=\"calendar__cell calendar__impact impact calendar__impact calendar__impact--medium\"><div class=\"calendar__impact-icon calendar__impact-icon--screen\"> <span class=\"medium\" title=\"Medium Impact Expected\"></span> </div> <div class=\"calendar__impact-icon calendar__impact-icon--print\"> <img alt=\"\" border=\"0\" src=\"https://cdn-resources.forexfactory.net/images/icons/impact/impact-orange.png\"/> </div></td>,\n",
       " <td class=\"calendar__cell calendar__impact impact calendar__impact calendar__impact--high\"><div class=\"calendar__impact-icon calendar__impact-icon--screen\"> <span class=\"high\" title=\"High Impact Expected\"></span> </div> <div class=\"calendar__impact-icon calendar__impact-icon--print\"> <img alt=\"\" border=\"0\" src=\"https://cdn-resources.forexfactory.net/images/icons/impact/impact-red.png\"/> </div></td>,\n",
       " <td class=\"calendar__cell calendar__impact impact calendar__impact calendar__impact--medium\"><div class=\"calendar__impact-icon calendar__impact-icon--screen\"> <span class=\"medium\" title=\"Medium Impact Expected\"></span> </div> <div class=\"calendar__impact-icon calendar__impact-icon--print\"> <img alt=\"\" border=\"0\" src=\"https://cdn-resources.forexfactory.net/images/icons/impact/impact-orange.png\"/> </div></td>,\n",
       " <td class=\"calendar__cell calendar__impact impact calendar__impact calendar__impact--low\"><div class=\"calendar__impact-icon calendar__impact-icon--screen\"> <span class=\"low\" title=\"Low Impact Expected\"></span> </div> <div class=\"calendar__impact-icon calendar__impact-icon--print\"> <img alt=\"\" border=\"0\" src=\"https://cdn-resources.forexfactory.net/images/icons/impact/impact-yellow.png\"/> </div></td>,\n",
       " <td class=\"calendar__cell calendar__impact impact calendar__impact calendar__impact--low\"><div class=\"calendar__impact-icon calendar__impact-icon--screen\"> <span class=\"low\" title=\"Low Impact Expected\"></span> </div> <div class=\"calendar__impact-icon calendar__impact-icon--print\"> <img alt=\"\" border=\"0\" src=\"https://cdn-resources.forexfactory.net/images/icons/impact/impact-yellow.png\"/> </div></td>,\n",
       " <td class=\"calendar__cell calendar__impact impact calendar__impact calendar__impact--high\"><div class=\"calendar__impact-icon calendar__impact-icon--screen\"> <span class=\"high\" title=\"High Impact Expected\"></span> </div> <div class=\"calendar__impact-icon calendar__impact-icon--print\"> <img alt=\"\" border=\"0\" src=\"https://cdn-resources.forexfactory.net/images/icons/impact/impact-red.png\"/> </div></td>,\n",
       " <td class=\"calendar__cell calendar__impact impact calendar__impact calendar__impact--low\"><div class=\"calendar__impact-icon calendar__impact-icon--screen\"> <span class=\"low\" title=\"Low Impact Expected\"></span> </div> <div class=\"calendar__impact-icon calendar__impact-icon--print\"> <img alt=\"\" border=\"0\" src=\"https://cdn-resources.forexfactory.net/images/icons/impact/impact-yellow.png\"/> </div></td>,\n",
       " <td class=\"calendar__cell calendar__impact impact calendar__impact calendar__impact--high\"><div class=\"calendar__impact-icon calendar__impact-icon--screen\"> <span class=\"high\" title=\"High Impact Expected\"></span> </div> <div class=\"calendar__impact-icon calendar__impact-icon--print\"> <img alt=\"\" border=\"0\" src=\"https://cdn-resources.forexfactory.net/images/icons/impact/impact-red.png\"/> </div></td>,\n",
       " <td class=\"calendar__cell calendar__impact impact calendar__impact calendar__impact--high\"><div class=\"calendar__impact-icon calendar__impact-icon--screen\"> <span class=\"high\" title=\"High Impact Expected\"></span> </div> <div class=\"calendar__impact-icon calendar__impact-icon--print\"> <img alt=\"\" border=\"0\" src=\"https://cdn-resources.forexfactory.net/images/icons/impact/impact-red.png\"/> </div></td>,\n",
       " <td class=\"calendar__cell calendar__impact impact calendar__impact calendar__impact--high\"><div class=\"calendar__impact-icon calendar__impact-icon--screen\"> <span class=\"high\" title=\"High Impact Expected\"></span> </div> <div class=\"calendar__impact-icon calendar__impact-icon--print\"> <img alt=\"\" border=\"0\" src=\"https://cdn-resources.forexfactory.net/images/icons/impact/impact-red.png\"/> </div></td>,\n",
       " <td class=\"calendar__cell calendar__impact impact calendar__impact calendar__impact--high\"><div class=\"calendar__impact-icon calendar__impact-icon--screen\"> <span class=\"high\" title=\"High Impact Expected\"></span> </div> <div class=\"calendar__impact-icon calendar__impact-icon--print\"> <img alt=\"\" border=\"0\" src=\"https://cdn-resources.forexfactory.net/images/icons/impact/impact-red.png\"/> </div></td>,\n",
       " <td class=\"calendar__cell calendar__impact impact calendar__impact calendar__impact--holiday\"><div class=\"calendar__impact-icon calendar__impact-icon--screen\"> <span class=\"holiday\" title=\"Non-Economic\"></span> </div> <div class=\"calendar__impact-icon calendar__impact-icon--print\"> <img alt=\"\" border=\"0\" src=\"https://cdn-resources.forexfactory.net/images/icons/impact/impact-gray.png\"/> </div></td>,\n",
       " <td class=\"calendar__cell calendar__impact impact calendar__impact calendar__impact--low\"><div class=\"calendar__impact-icon calendar__impact-icon--screen\"> <span class=\"low\" title=\"Low Impact Expected\"></span> </div> <div class=\"calendar__impact-icon calendar__impact-icon--print\"> <img alt=\"\" border=\"0\" src=\"https://cdn-resources.forexfactory.net/images/icons/impact/impact-yellow.png\"/> </div></td>,\n",
       " <td class=\"calendar__cell calendar__impact impact calendar__impact calendar__impact--low\"><div class=\"calendar__impact-icon calendar__impact-icon--screen\"> <span class=\"low\" title=\"Low Impact Expected\"></span> </div> <div class=\"calendar__impact-icon calendar__impact-icon--print\"> <img alt=\"\" border=\"0\" src=\"https://cdn-resources.forexfactory.net/images/icons/impact/impact-yellow.png\"/> </div></td>,\n",
       " <td class=\"calendar__cell calendar__impact impact calendar__impact calendar__impact--high\"><div class=\"calendar__impact-icon calendar__impact-icon--screen\"> <span class=\"high\" title=\"High Impact Expected\"></span> </div> <div class=\"calendar__impact-icon calendar__impact-icon--print\"> <img alt=\"\" border=\"0\" src=\"https://cdn-resources.forexfactory.net/images/icons/impact/impact-red.png\"/> </div></td>,\n",
       " <td class=\"calendar__cell calendar__impact impact calendar__impact calendar__impact--low\"><div class=\"calendar__impact-icon calendar__impact-icon--screen\"> <span class=\"low\" title=\"Low Impact Expected\"></span> </div> <div class=\"calendar__impact-icon calendar__impact-icon--print\"> <img alt=\"\" border=\"0\" src=\"https://cdn-resources.forexfactory.net/images/icons/impact/impact-yellow.png\"/> </div></td>,\n",
       " <td class=\"calendar__cell calendar__impact impact calendar__impact calendar__impact--high\"><div class=\"calendar__impact-icon calendar__impact-icon--screen\"> <span class=\"high\" title=\"High Impact Expected\"></span> </div> <div class=\"calendar__impact-icon calendar__impact-icon--print\"> <img alt=\"\" border=\"0\" src=\"https://cdn-resources.forexfactory.net/images/icons/impact/impact-red.png\"/> </div></td>]"
      ]
     },
     "execution_count": 56,
     "metadata": {},
     "output_type": "execute_result"
    }
   ],
   "source": [
    "impact = soup.find_all(\"td\", {\"class\":\"impact\"})\n",
    "\n",
    "impact\n",
    "\n",
    "#for i in range(0, len(impact)):\n",
    "    #print(impact[i].find_all(\"span\")[0]['title'])\n"
   ]
  },
  {
   "cell_type": "code",
   "execution_count": 8,
   "metadata": {},
   "outputs": [
    {
     "name": "stdout",
     "output_type": "stream",
     "text": [
      "-10K\n",
      "52.1\n",
      "0.5%\n",
      "0.1%\n",
      "\n",
      "178K\n",
      "52.5\n",
      "56.1\n",
      "-3.3M\n",
      "\n",
      "<1.00%\n",
      "\n",
      "\n",
      "\n",
      "3.33B\n",
      "52.6\n",
      "\n"
     ]
    }
   ],
   "source": [
    "forecast = soup.find_all(\"td\", {\"class\":\"calendar__forecast\"})\n",
    "for f in range(0, len(forecast)):\n",
    "    print(forecast[f].text)"
   ]
  },
  {
   "cell_type": "code",
   "execution_count": 9,
   "metadata": {},
   "outputs": [
    {
     "name": "stdout",
     "output_type": "stream",
     "text": [
      "-29K\n",
      "52.2\n",
      "0.4%\n",
      "0.0%\n",
      "0.21|1.4\n",
      "255K\n",
      "52.5\n",
      "55.2\n",
      "-3.6M\n",
      "\n",
      "<1.00%\n",
      "\n",
      "0.2%\n",
      "0.4%\n",
      "3.57B\n",
      "52.2\n",
      "\n"
     ]
    }
   ],
   "source": [
    "previous = soup.find_all(\"td\", {\"class\":\"calendar__previous\"})\n",
    "for p in range(0, len(previous)):\n",
    "    print(previous[p].text)"
   ]
  },
  {
   "cell_type": "code",
   "execution_count": null,
   "metadata": {
    "collapsed": true
   },
   "outputs": [],
   "source": []
  },
  {
   "cell_type": "code",
   "execution_count": null,
   "metadata": {
    "collapsed": true
   },
   "outputs": [],
   "source": []
  },
  {
   "cell_type": "code",
   "execution_count": null,
   "metadata": {
    "collapsed": true
   },
   "outputs": [],
   "source": []
  }
 ],
 "metadata": {
  "kernelspec": {
   "display_name": "Python 3",
   "language": "python",
   "name": "python3"
  },
  "language_info": {
   "codemirror_mode": {
    "name": "ipython",
    "version": 3
   },
   "file_extension": ".py",
   "mimetype": "text/x-python",
   "name": "python",
   "nbconvert_exporter": "python",
   "pygments_lexer": "ipython3",
   "version": "3.6.0"
  }
 },
 "nbformat": 4,
 "nbformat_minor": 2
}
